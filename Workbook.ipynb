{
 "cells": [
  {
   "cell_type": "code",
   "execution_count": 1,
   "id": "a15ae8e9",
   "metadata": {},
   "outputs": [],
   "source": [
    "# Note: 1. Always double check your path, data name, and extension\n",
    "# 2. Close the file to avoid conflicts\n",
    "# 3. Use field view to check actual column names and alias"
   ]
  },
  {
   "cell_type": "code",
   "execution_count": 1,
   "id": "bc1ce0ab",
   "metadata": {},
   "outputs": [
    {
     "name": "stdout",
     "output_type": "stream",
     "text": [
      "Data Type  RasterDataset\n",
      "Spatial Reference  GCS_WGS_1984\n",
      "Extent  -180.00416666665 -65.00416610665 180.00416522665 75.00416666665 NaN NaN NaN NaN\n",
      "Number of Bands  1\n"
     ]
    }
   ],
   "source": [
    "# Now let's try to load the basic data and explore them\n",
    "# As usual, you need to set up your Arcpy\n",
    "import arcpy\n",
    "\n",
    "arcpy.env.workspace = r'C:\\Users\\nismayil\\OneDrive - Texas Tech University\\GeoStatistics\\Lab 12'\n",
    "arcpy.env.overwriteOutput = True\n",
    "\n",
    "# Define the Nighttime Light file path - note I have renamed this to DMSP NTL\n",
    "dmsp_path = 'dmsp.tif'\n",
    "\n",
    "# Describe the GeoTIFF to get its properties\n",
    "desc = arcpy.Describe(dmsp_path)\n",
    "\n",
    "# Print basic properties\n",
    "print(\"Data Type \",desc.dataType)\n",
    "print(\"Spatial Reference \", desc.spatialReference.name)\n",
    "print(\"Extent \", desc.extent)\n",
    "print(\"Number of Bands \",desc.bandCount)"
   ]
  },
  {
   "cell_type": "code",
   "execution_count": 2,
   "id": "1b8a6995",
   "metadata": {},
   "outputs": [
    {
     "name": "stdout",
     "output_type": "stream",
     "text": [
      "Columns in the admin shapefile:\n",
      "FID\n",
      "Shape\n",
      "shapeGroup\n",
      "shapeType\n",
      "shapeName\n"
     ]
    }
   ],
   "source": [
    "# Explore the admin boundaray shapefile\n",
    "shapefile_path = r'C:\\Users\\nismayil\\OneDrive - Texas Tech University\\GeoStatistics\\Lab 12\\ADM0\\geoBoundariesCGAZ_ADM0.shp' # define your path here\n",
    "\n",
    "# List all fields in the shapefile\n",
    "fields = arcpy.ListFields(shapefile_path)\n",
    "\n",
    "# Print column names\n",
    "print(\"Columns in the admin shapefile:\")\n",
    "for field in fields:\n",
    "    print(field.name)"
   ]
  },
  {
   "cell_type": "code",
   "execution_count": 3,
   "id": "0153861e",
   "metadata": {},
   "outputs": [
    {
     "name": "stdout",
     "output_type": "stream",
     "text": [
      "AFG ADM0 Afghanistan\n",
      "GBR ADM0 United Kingdom\n",
      "ALB ADM0 Albania\n",
      "DZA ADM0 Algeria\n",
      "USA ADM0 United States\n",
      "ATA ADM0 Antarctica\n",
      "ATG ADM0 Antigua & Barbuda\n",
      "ARG ADM0 Argentina\n",
      "AND ADM0 Andorra\n",
      "AGO ADM0 Angola\n",
      "ARM ADM0 Armenia\n",
      "NLD ADM0 Netherlands\n",
      "AUS ADM0 Australia\n",
      "AUT ADM0 Austria\n",
      "AZE ADM0 Azerbaijan\n",
      "BHS ADM0 Bahamas, The\n",
      "BRB ADM0 Barbados\n",
      "BLR ADM0 Belarus\n",
      "BEL ADM0 Belgium\n",
      "BLZ ADM0 Belize\n",
      "BTN ADM0 Bhutan\n",
      "BOL ADM0 Bolivia\n",
      "BIH ADM0 Bosnia & Herzegovina\n",
      "BWA ADM0 Botswana\n",
      "NOR ADM0 Norway\n",
      "COL ADM0 Colombia\n",
      "COM ADM0 Comoros\n",
      "BRA ADM0 Brazil\n",
      "FRA ADM0 France\n",
      "COD ADM0 Congo, Dem Rep of the\n",
      "COG ADM0 Congo, Rep of the\n",
      "NZL ADM0 New Zealand\n",
      "BRN ADM0 Brunei\n",
      "BGR ADM0 Bulgaria\n",
      "BFA ADM0 Burkina Faso\n",
      "BDI ADM0 Burundi\n",
      "CPV ADM0 Cabo Verde\n",
      "KHM ADM0 Cambodia\n",
      "CMR ADM0 Cameroon\n",
      "CAN ADM0 Canada\n",
      "CRI ADM0 Costa Rica\n",
      "CIV ADM0 Cote d'Ivoire\n",
      "HRV ADM0 Croatia\n",
      "CUB ADM0 Cuba\n",
      "CAF ADM0 Central African Rep\n",
      "TCD ADM0 Chad\n",
      "CHL ADM0 Chile\n",
      "CHN ADM0 China\n",
      "CYP ADM0 Cyprus\n",
      "CZE ADM0 Czechia\n",
      "DNK ADM0 Denmark\n",
      "DJI ADM0 Djibouti\n",
      "DMA ADM0 Dominica\n",
      "DOM ADM0 Dominican Republic\n",
      "ECU ADM0 Ecuador\n",
      "EGY ADM0 Egypt\n",
      "SLV ADM0 El Salvador\n",
      "GNQ ADM0 Equatorial Guinea\n",
      "ERI ADM0 Eritrea\n",
      "EST ADM0 Estonia\n",
      "ETH ADM0 Ethiopia\n",
      "FJI ADM0 Fiji\n",
      "FIN ADM0 Finland\n",
      "GAB ADM0 Gabon\n",
      "GMB ADM0 Gambia, The\n",
      "MAR ADM0 Morocco\n",
      "MOZ ADM0 Mozambique\n",
      "NAM ADM0 Namibia\n",
      "GEO ADM0 Georgia\n",
      "DEU ADM0 Germany\n",
      "GHA ADM0 Ghana\n",
      "GRC ADM0 Greece\n",
      "GRL ADM0 Greenland\n",
      "GRD ADM0 Grenada\n",
      "NRU ADM0 Nauru\n",
      "GTM ADM0 Guatemala\n",
      "NPL ADM0 Nepal\n",
      "GIN ADM0 Guinea\n",
      "GNB ADM0 Guinea-Bissau\n",
      "GUY ADM0 Guyana\n",
      "HTI ADM0 Haiti\n",
      "JOR ADM0 Jordan\n",
      "HND ADM0 Honduras\n",
      "HUN ADM0 Hungary\n",
      "ISL ADM0 Iceland\n",
      "IDN ADM0 Indonesia\n",
      "IRN ADM0 Iran\n",
      "IRQ ADM0 Iraq\n",
      "IRL ADM0 Ireland\n",
      "KAZ ADM0 Kazakhstan\n",
      "KEN ADM0 Kenya\n",
      "KIR ADM0 Kiribati\n",
      "PRK ADM0 Korea, North\n",
      "KOR ADM0 Korea, South\n",
      "XKX ADM0 Kosovo\n",
      "SRB ADM0 Serbia\n",
      "SYC ADM0 Seychelles\n",
      "SLE ADM0 Sierra Leone\n",
      "SGP ADM0 Singapore\n",
      "ITA ADM0 Italy\n",
      "JAM ADM0 Jamaica\n",
      "JPN ADM0 Japan\n",
      "KGZ ADM0 Kyrgyzstan\n",
      "LAO ADM0 Laos\n",
      "LVA ADM0 Latvia\n",
      "LBN ADM0 Lebanon\n",
      "LSO ADM0 Lesotho\n",
      "LBR ADM0 Liberia\n",
      "LBY ADM0 Libya\n",
      "LIE ADM0 Liechtenstein\n",
      "LTU ADM0 Lithuania\n",
      "LUX ADM0 Luxembourg\n",
      "MCO ADM0 Monaco\n",
      "MNG ADM0 Mongolia\n",
      "MNE ADM0 Montenegro\n",
      "MKD ADM0 Macedonia\n",
      "MDG ADM0 Madagascar\n",
      "MWI ADM0 Malawi\n",
      "MYS ADM0 Malaysia\n",
      "MDV ADM0 Maldives\n",
      "MLI ADM0 Mali\n",
      "MLT ADM0 Malta\n",
      "MHL ADM0 Marshall Is\n",
      "MRT ADM0 Mauritania\n",
      "MUS ADM0 Mauritius\n",
      "MEX ADM0 Mexico\n",
      "FSM ADM0 Micronesia, Fed States of\n",
      "MDA ADM0 Moldova\n",
      "NIC ADM0 Nicaragua\n",
      "OMN ADM0 Oman\n",
      "PAK ADM0 Pakistan\n",
      "PLW ADM0 Palau\n",
      "PAN ADM0 Panama\n",
      "PNG ADM0 Papua New Guinea\n",
      "PRY ADM0 Paraguay\n",
      "PER ADM0 Peru\n",
      "PHL ADM0 Philippines\n",
      "POL ADM0 Poland\n",
      "PRT ADM0 Portugal\n",
      "ROU ADM0 Romania\n",
      "RUS ADM0 Russia\n",
      "RWA ADM0 Rwanda\n",
      "WSM ADM0 Samoa\n",
      "SMR ADM0 San Marino\n",
      "TON ADM0 Tonga\n",
      "TTO ADM0 Trinidad & Tobago\n",
      "TUN ADM0 Tunisia\n",
      "TKM ADM0 Turkmenistan\n",
      "STP ADM0 Sao Tome & Principe\n",
      "SAU ADM0 Saudi Arabia\n",
      "SEN ADM0 Senegal\n",
      "SVK ADM0 Slovakia\n",
      "SVN ADM0 Slovenia\n",
      "SLB ADM0 Solomon Is\n",
      "SOM ADM0 Somalia\n",
      "ZAF ADM0 South Africa\n",
      "SSD ADM0 South Sudan\n",
      "ESP ADM0 Spain\n",
      "LKA ADM0 Sri Lanka\n",
      "KNA ADM0 St Kitts & Nevis\n",
      "LCA ADM0 St Lucia\n",
      "VCT ADM0 St Vincent & the Grenadines\n",
      "SDN ADM0 Sudan\n",
      "SUR ADM0 Suriname\n",
      "SWZ ADM0 Swaziland\n",
      "SWE ADM0 Sweden\n",
      "CHE ADM0 Switzerland\n",
      "SYR ADM0 Syria\n",
      "TWN ADM0 Taiwan\n",
      "TJK ADM0 Tajikistan\n",
      "TZA ADM0 Tanzania\n",
      "THA ADM0 Thailand\n",
      "TLS ADM0 Timor-Leste\n",
      "TGO ADM0 Togo\n",
      "TUV ADM0 Tuvalu\n",
      "UGA ADM0 Uganda\n",
      "URY ADM0 Uruguay\n",
      "UZB ADM0 Uzbekistan\n",
      "VUT ADM0 Vanuatu\n",
      "VAT ADM0 Vatican City\n",
      "VEN ADM0 Venezuela\n",
      "VNM ADM0 Vietnam\n",
      "ZMB ADM0 Zambia\n",
      "ZWE ADM0 Zimbabwe\n",
      "YEM ADM0 Yemen\n",
      "UKR ADM0 Ukraine\n",
      "BHR ADM0 Bahrain\n",
      "KWT ADM0 Kuwait\n",
      "QAT ADM0 Qatar\n",
      "ARE ADM0 United Arab Emirates\n",
      "TUR ADM0 Turkey\n",
      "ISR ADM0 Israel\n",
      "BGD ADM0 Bangladesh\n",
      "MMR ADM0 Burma\n",
      "IND ADM0 India\n",
      "BEN ADM0 Benin\n",
      "NER ADM0 Niger\n",
      "NGA ADM0 Nigeria\n",
      "111 DISP Abyei\n",
      "112 DISP Aksai Chin\n",
      "113 DISP CH-IN\n",
      "114 DISP Demchok\n",
      "115 DISP Dragonja\n",
      "116 DISP Dramana-Shakatoe\n",
      "117 DISP Falkland Islands (UK)\n",
      "118 DISP Gaza Strip\n",
      "119 DISP Kalapani\n",
      "120 DISP Isla Brasilera\n",
      "121 DISP Siachen-Saltoro\n",
      "122 DISP Koualou\n",
      "123 DISP Liancourt Rocks\n",
      "124 DISP No Man's Land\n",
      "125 DISP Paracel Is\n",
      "126 DISP Sanafir & Tiran Is.\n",
      "127 DISP Senkakus\n",
      "128 DISP Spratly Is\n",
      "129 DISP West Bank\n",
      "ESH DISP Western Sahara\n"
     ]
    }
   ],
   "source": [
    "# use search cursor to preview the value\n",
    "\n",
    "# Create a search cursor to iterate over rows\n",
    "with arcpy.da.SearchCursor(shapefile_path, [\"shapeGroup\", \"shapeType\", \"shapeName\"]) as cursor: \n",
    "    for row in cursor:\n",
    "        # Print each row\n",
    "        print(row[0], row[1], row[2])"
   ]
  },
  {
   "cell_type": "code",
   "execution_count": 4,
   "id": "8e1f2caa",
   "metadata": {},
   "outputs": [
    {
     "data": {
      "text/html": [
       "<div>\n",
       "<style scoped>\n",
       "    .dataframe tbody tr th:only-of-type {\n",
       "        vertical-align: middle;\n",
       "    }\n",
       "\n",
       "    .dataframe tbody tr th {\n",
       "        vertical-align: top;\n",
       "    }\n",
       "\n",
       "    .dataframe thead th {\n",
       "        text-align: right;\n",
       "    }\n",
       "</style>\n",
       "<table border=\"1\" class=\"dataframe\">\n",
       "  <thead>\n",
       "    <tr style=\"text-align: right;\">\n",
       "      <th></th>\n",
       "      <th>Country Name</th>\n",
       "      <th>Country Code</th>\n",
       "      <th>2013POP</th>\n",
       "    </tr>\n",
       "  </thead>\n",
       "  <tbody>\n",
       "    <tr>\n",
       "      <th>0</th>\n",
       "      <td>Aruba</td>\n",
       "      <td>ABW</td>\n",
       "      <td>102880.0</td>\n",
       "    </tr>\n",
       "    <tr>\n",
       "      <th>1</th>\n",
       "      <td>Africa Eastern and Southern</td>\n",
       "      <td>AFE</td>\n",
       "      <td>567892149.0</td>\n",
       "    </tr>\n",
       "    <tr>\n",
       "      <th>2</th>\n",
       "      <td>Afghanistan</td>\n",
       "      <td>AFG</td>\n",
       "      <td>31541209.0</td>\n",
       "    </tr>\n",
       "    <tr>\n",
       "      <th>3</th>\n",
       "      <td>Africa Western and Central</td>\n",
       "      <td>AFW</td>\n",
       "      <td>387204553.0</td>\n",
       "    </tr>\n",
       "    <tr>\n",
       "      <th>4</th>\n",
       "      <td>Angola</td>\n",
       "      <td>AGO</td>\n",
       "      <td>26147002.0</td>\n",
       "    </tr>\n",
       "  </tbody>\n",
       "</table>\n",
       "</div>"
      ],
      "text/plain": [
       "                  Country Name Country Code      2013POP\n",
       "0                        Aruba          ABW     102880.0\n",
       "1  Africa Eastern and Southern          AFE  567892149.0\n",
       "2                  Afghanistan          AFG   31541209.0\n",
       "3   Africa Western and Central          AFW  387204553.0\n",
       "4                       Angola          AGO   26147002.0"
      ]
     },
     "execution_count": 4,
     "metadata": {},
     "output_type": "execute_result"
    }
   ],
   "source": [
    "# Explore the population table with Pandas\n",
    "# more about pandas: https://pandas.pydata.org/\n",
    "import pandas as pd\n",
    "path_pop = r'C:\\Users\\nismayil\\OneDrive - Texas Tech University\\GeoStatistics\\Lab 12\\pop2013.csv'\n",
    "pop = pd.read_csv(path_pop)\n",
    "pop.head()\n",
    "# you may notice that \"shapeGroup\" and \"Country Code\" contains same country code"
   ]
  },
  {
   "cell_type": "code",
   "execution_count": 6,
   "id": "5101c79a",
   "metadata": {},
   "outputs": [
    {
     "data": {
      "text/html": [
       "<div class='gpresult'><h2>Messages</h2><div id='messages' data-messages='[\"Start Time: Monday, November 20, 2023 4:57:13 PM\",\"Succeeded at Monday, November 20, 2023 4:57:13 PM (Elapsed Time: 0.13 seconds)\"]' data-show='true'><div id = 'default' /></div></div>"
      ],
      "text/plain": [
       "<Result 'C:\\\\Users\\\\nismayil\\\\OneDrive - Texas Tech University\\\\GeoStatistics\\\\Lab 12\\\\lab.gdb'>"
      ]
     },
     "execution_count": 6,
     "metadata": {},
     "output_type": "execute_result"
    }
   ],
   "source": [
    "# Create a geodatabase to save all these data in the gdb\n",
    "geodatabase_name = 'lab.gdb'\n",
    "arcpy.CreateFileGDB_management(arcpy.env.workspace, geodatabase_name)"
   ]
  },
  {
   "cell_type": "code",
   "execution_count": 7,
   "id": "55db996b",
   "metadata": {},
   "outputs": [
    {
     "data": {
      "text/html": [
       "<div class='gpresult'><h2>Messages</h2><div id='messages' data-messages='[\"Start Time: Monday, November 20, 2023 4:57:16 PM\",\"C:\\\\Users\\\\nismayil\\\\OneDrive - Texas Tech University\\\\GeoStatistics\\\\Lab 12\\\\ADM0\\\\geoBoundariesCGAZ_ADM0.shp Successfully converted:  C:\\\\Users\\\\nismayil\\\\OneDrive - Texas Tech University\\\\GeoStatistics\\\\Lab 12\\\\lab.gdb\\\\geoBoundariesCGAZ_ADM0\",\"Succeeded at Monday, November 20, 2023 4:57:17 PM (Elapsed Time: 1.49 seconds)\"]' data-show='true'><div id = 'default' /></div></div>"
      ],
      "text/plain": [
       "<Result 'C:\\\\Users\\\\nismayil\\\\OneDrive - Texas Tech University\\\\GeoStatistics\\\\Lab 12\\\\lab.gdb'>"
      ]
     },
     "execution_count": 7,
     "metadata": {},
     "output_type": "execute_result"
    }
   ],
   "source": [
    "# save shapefile to gdp\n",
    "arcpy.FeatureClassToGeodatabase_conversion(shapefile_path, geodatabase_name)"
   ]
  },
  {
   "cell_type": "code",
   "execution_count": 8,
   "id": "aaf867b7",
   "metadata": {},
   "outputs": [
    {
     "data": {
      "text/html": [
       "<div class='gpresult'><h2>Messages</h2><div id='messages' data-messages='[\"Start Time: Monday, November 20, 2023 4:57:19 PM\",\"Succeeded at Monday, November 20, 2023 4:57:20 PM (Elapsed Time: 0.29 seconds)\"]' data-show='true'><div id = 'default' /></div></div>"
      ],
      "text/plain": [
       "<Result 'C:\\\\Users\\\\nismayil\\\\OneDrive - Texas Tech University\\\\GeoStatistics\\\\Lab 12\\\\lab.gdb\\\\pop'>"
      ]
     },
     "execution_count": 8,
     "metadata": {},
     "output_type": "execute_result"
    }
   ],
   "source": [
    "# save gdp table\n",
    "# Name of the output table in the geodatabase\n",
    "output_table_name = 'pop'  \n",
    "arcpy.TableToTable_conversion(path_pop, geodatabase_name, output_table_name)"
   ]
  },
  {
   "cell_type": "code",
   "execution_count": 9,
   "id": "f8b3b48e",
   "metadata": {},
   "outputs": [],
   "source": [
    "# now change the workspace to gdb\n",
    "arcpy.env.workspace = r'C:\\Users\\nismayil\\OneDrive - Texas Tech University\\GeoStatistics\\Lab 12\\lab.gdb'"
   ]
  },
  {
   "cell_type": "code",
   "execution_count": 10,
   "id": "2b34cfd4",
   "metadata": {},
   "outputs": [
    {
     "data": {
      "text/html": [
       "<div class='gpresult'><h2>Messages</h2><div id='messages' data-messages='[\"Start Time: Monday, November 20, 2023 4:57:34 PM\",\"Building Pyramids...\",\"Calculating Statistics...\",\"Succeeded at Monday, November 20, 2023 4:57:56 PM (Elapsed Time: 21.90 seconds)\"]' data-show='true'><div id = 'default' /></div></div>"
      ],
      "text/plain": [
       "<Result 'C:\\\\Users\\\\nismayil\\\\OneDrive - Texas Tech University\\\\GeoStatistics\\\\Lab 12\\\\lab.gdb\\\\dmsp'>"
      ]
     },
     "execution_count": 10,
     "metadata": {},
     "output_type": "execute_result"
    }
   ],
   "source": [
    "# save dmsp to gdp\n",
    "dmsp_paths= r'C:\\Users\\nismayil\\OneDrive - Texas Tech University\\GeoStatistics\\Lab 12\\dmsp.tif'\n",
    "arcpy.management.CopyRaster(dmsp_paths, 'dmsp')"
   ]
  },
  {
   "cell_type": "code",
   "execution_count": 12,
   "id": "b34b0980",
   "metadata": {},
   "outputs": [
    {
     "ename": "ExecuteError",
     "evalue": "Failed to execute. Parameters are not valid.\nERROR 000732: Output Geodatabase: Dataset lab.gdb does not exist or is not supported\nFailed to execute (FeatureClassToGeodatabase).\n",
     "output_type": "error",
     "traceback": [
      "\u001b[0;31m---------------------------------------------------------------------------\u001b[0m\n\u001b[0;31mExecuteError\u001b[0m                              Traceback (most recent call last)",
      "In  \u001b[0;34m[12]\u001b[0m:\nLine \u001b[0;34m2\u001b[0m:     arcpy.FeatureClassToGeodatabase_conversion(shapefile_path, geodatabase_name)\n",
      "File \u001b[0;34mC:\\Program Files\\ArcGIS\\Pro\\Resources\\ArcPy\\arcpy\\conversion.py\u001b[0m, in \u001b[0;32mFeatureClassToGeodatabase\u001b[0m:\nLine \u001b[0;34m3239\u001b[0m:  \u001b[34mraise\u001b[39;49;00m e\n",
      "File \u001b[0;34mC:\\Program Files\\ArcGIS\\Pro\\Resources\\ArcPy\\arcpy\\conversion.py\u001b[0m, in \u001b[0;32mFeatureClassToGeodatabase\u001b[0m:\nLine \u001b[0;34m3236\u001b[0m:  retval = convertArcObjectToPythonObject(gp.FeatureClassToGeodatabase_conversion(*gp_fixargs((Input_Features, Output_Geodatabase), \u001b[34mTrue\u001b[39;49;00m)))\n",
      "File \u001b[0;34mC:\\Program Files\\ArcGIS\\Pro\\Resources\\ArcPy\\arcpy\\geoprocessing\\_base.py\u001b[0m, in \u001b[0;32m<lambda>\u001b[0m:\nLine \u001b[0;34m512\u001b[0m:   \u001b[34mreturn\u001b[39;49;00m \u001b[34mlambda\u001b[39;49;00m *args: val(*gp_fixargs(args, \u001b[34mTrue\u001b[39;49;00m))\n",
      "\u001b[0;31mExecuteError\u001b[0m: Failed to execute. Parameters are not valid.\nERROR 000732: Output Geodatabase: Dataset lab.gdb does not exist or is not supported\nFailed to execute (FeatureClassToGeodatabase).\n\n\u001b[0;31m---------------------------------------------------------------------------\u001b[0m"
     ]
    }
   ],
   "source": [
    "# Open ArcGIS and check to gdb\n",
    "arcpy.FeatureClassToGeodatabase_conversion(shapefile_path, geodatabase_name)"
   ]
  },
  {
   "cell_type": "code",
   "execution_count": 12,
   "id": "074b6435",
   "metadata": {},
   "outputs": [
    {
     "ename": "ExecuteError",
     "evalue": "Failed to execute. Parameters are not valid.\nERROR 000732: Layer Name or Table View: Dataset geoBoundariesCGAZ_ADM0 does not exist or is not supported\nFailed to execute (AddJoin).\n",
     "output_type": "error",
     "traceback": [
      "\u001b[0;31m---------------------------------------------------------------------------\u001b[0m\n\u001b[0;31mExecuteError\u001b[0m                              Traceback (most recent call last)",
      "In  \u001b[0;34m[12]\u001b[0m:\nLine \u001b[0;34m13\u001b[0m:    joined_table = arcpy.management.AddJoin(\u001b[33m\"\u001b[39;49;00m\u001b[33mgeoBoundariesCGAZ_ADM0\u001b[39;49;00m\u001b[33m\"\u001b[39;49;00m, join_field1, \u001b[33m\"\u001b[39;49;00m\u001b[33mpop\u001b[39;49;00m\u001b[33m\"\u001b[39;49;00m, join_field2)\n",
      "File \u001b[0;34mC:\\Program Files\\ArcGIS\\Pro\\Resources\\ArcPy\\arcpy\\management.py\u001b[0m, in \u001b[0;32mAddJoin\u001b[0m:\nLine \u001b[0;34m9150\u001b[0m:  \u001b[34mraise\u001b[39;49;00m e\n",
      "File \u001b[0;34mC:\\Program Files\\ArcGIS\\Pro\\Resources\\ArcPy\\arcpy\\management.py\u001b[0m, in \u001b[0;32mAddJoin\u001b[0m:\nLine \u001b[0;34m9147\u001b[0m:  retval = convertArcObjectToPythonObject(gp.AddJoin_management(*gp_fixargs((in_layer_or_view, in_field, join_table, join_field, join_type, index_join_fields), \u001b[34mTrue\u001b[39;49;00m)))\n",
      "File \u001b[0;34mC:\\Program Files\\ArcGIS\\Pro\\Resources\\ArcPy\\arcpy\\geoprocessing\\_base.py\u001b[0m, in \u001b[0;32m<lambda>\u001b[0m:\nLine \u001b[0;34m512\u001b[0m:   \u001b[34mreturn\u001b[39;49;00m \u001b[34mlambda\u001b[39;49;00m *args: val(*gp_fixargs(args, \u001b[34mTrue\u001b[39;49;00m))\n",
      "\u001b[0;31mExecuteError\u001b[0m: Failed to execute. Parameters are not valid.\nERROR 000732: Layer Name or Table View: Dataset geoBoundariesCGAZ_ADM0 does not exist or is not supported\nFailed to execute (AddJoin).\n\n\u001b[0;31m---------------------------------------------------------------------------\u001b[0m"
     ]
    }
   ],
   "source": [
    "# Combine population data with the admin shapefile\n",
    "\n",
    "# Field to join on in the shapefile\n",
    "join_field1 = 'shapeGroup'\n",
    "\n",
    "# Field to join on in the table\n",
    "join_field2 = 'Country_Code'\n",
    "\n",
    "# Output feature class name after the join\n",
    "output_feature_class = 'admin_pop'\n",
    "\n",
    "# Join the table to the shapefile\n",
    "joined_table = arcpy.management.AddJoin(\"geoBoundariesCGAZ_ADM0\", join_field1, \"pop\", join_field2)\n",
    "\n",
    "# See field names and aliases\n",
    "resultFields = arcpy.ListFields(joined_table)\n",
    "print([field.name for field in resultFields])\n",
    "      \n",
    "# Copy the result to a new feature class\n",
    "arcpy.management.CopyFeatures(joined_table, output_feature_class) # you can check your result"
   ]
  },
  {
   "cell_type": "code",
   "execution_count": 28,
   "id": "9e5e73da",
   "metadata": {},
   "outputs": [],
   "source": [
    "# use zonal statistics to calculate the total nighttime light intensity in the country\n",
    "# source: https://pro.arcgis.com/en/pro-app/latest/tool-reference/spatial-analyst/zonal-statistics-as-table.htm\n",
    "from arcpy.sa import *\n",
    "outZSaT = ZonalStatisticsAsTable(\"geoBoundariesCGAZ_ADM0\", \"shapeGroup\", \"dmsp\",\"country_pop\", \"NODATA\", \"SUM\")"
   ]
  },
  {
   "cell_type": "code",
   "execution_count": 29,
   "id": "4ed462c6",
   "metadata": {},
   "outputs": [
    {
     "name": "stdout",
     "output_type": "stream",
     "text": [
      "['admin_pop.OBJECTID', 'admin_pop.Shape', 'admin_pop.geoBoundariesCGAZ_ADM0_shapeGroup', 'admin_pop.geoBoundariesCGAZ_ADM0_shapeType', 'admin_pop.geoBoundariesCGAZ_ADM0_shapeName', 'admin_pop.pop_OBJECTID', 'admin_pop.pop_Country_Name', 'admin_pop.pop_Country_Code', 'admin_pop.pop_F2013POP', 'admin_pop.Shape_Length', 'admin_pop.Shape_Area', 'country_pop.OBJECTID', 'country_pop.shapeGroup', 'country_pop.ZONE_CODE', 'country_pop.COUNT', 'country_pop.AREA', 'country_pop.SUM']\n"
     ]
    },
    {
     "data": {
      "text/html": [
       "<div class='gpresult'><h2>Messages</h2><div id='messages' data-messages='[\"Start Time: Monday, November 13, 2023 3:51:12 PM\",\"Succeeded at Monday, November 13, 2023 3:51:13 PM (Elapsed Time: 1.00 seconds)\"]' data-show='true'><div id = 'default' /></div></div>"
      ],
      "text/plain": [
       "<Result 'C:\\\\Users\\\\nismayil\\\\OneDrive - Texas Tech University\\\\GeoStatistics\\\\Lab 12\\\\lab12.gdb\\\\admin_pop_ntl'>"
      ]
     },
     "execution_count": 29,
     "metadata": {},
     "output_type": "execute_result"
    }
   ],
   "source": [
    "# you can check your pop table in arcgis\n",
    "# Combine total ntl data with the admin shapefile\n",
    "\n",
    "# Field to join on in the shapefile\n",
    "join_field1 = 'geoBoundariesCGAZ_ADM0_shapeGroup'\n",
    "\n",
    "# Field to join on in the table\n",
    "join_field2 = 'shapeGroup'\n",
    "\n",
    "# Output feature class name after the join\n",
    "output_feature_class = 'admin_pop_ntl'\n",
    "\n",
    "# Join the table to the shapefile\n",
    "joined_table = arcpy.management.AddJoin(\"admin_pop\", join_field1, \"country_pop\", join_field2)\n",
    "\n",
    "# See field names and aliases\n",
    "resultFields = arcpy.ListFields(joined_table)\n",
    "print([field.name for field in resultFields])\n",
    "      \n",
    "# Copy the result to a new feature class\n",
    "arcpy.management.CopyFeatures(joined_table, output_feature_class) # you can check your result"
   ]
  },
  {
   "cell_type": "code",
   "execution_count": 34,
   "id": "3b788a1f",
   "metadata": {},
   "outputs": [
    {
     "name": "stderr",
     "output_type": "stream",
     "text": [
      "No artists with labels found to put in legend.  Note that artists whose label start with an underscore are ignored when legend() is called with no argument.\n"
     ]
    }
   ],
   "source": [
    "# Sum is the lighttime light intensity\n",
    "# Now let's plot\n",
    "import matplotlib.pyplot as plt\n",
    "import numpy as np\n",
    "\n",
    "# Names of the columns to use for plotting\n",
    "x_column_name = 'admin_pop_pop_F2013POP'\n",
    "y_column_name = 'country_pop_SUM'\n",
    "\n",
    "# Retrieve values from the columns using a cursor\n",
    "x_values = []\n",
    "y_values = []\n",
    "\n",
    "with arcpy.da.SearchCursor('admin_pop_ntl', [x_column_name, y_column_name]) as cursor:\n",
    "    for row in cursor:\n",
    "        x_values.append(row[0])\n",
    "        y_values.append(row[1])\n",
    "\n",
    "# Plot the scatter plot\n",
    "plt.scatter(x_values, y_values)\n",
    "\n",
    "\n",
    "# Add labels and legend\n",
    "plt.xlabel(x_column_name)\n",
    "plt.ylabel(y_column_name)\n",
    "plt.legend()\n",
    "\n",
    "# Show the plot\n",
    "plt.show()\n"
   ]
  },
  {
   "cell_type": "code",
   "execution_count": 37,
   "id": "f8d86e49",
   "metadata": {},
   "outputs": [
    {
     "data": {
      "text/html": [
       "<div>\n",
       "<style scoped>\n",
       "    .dataframe tbody tr th:only-of-type {\n",
       "        vertical-align: middle;\n",
       "    }\n",
       "\n",
       "    .dataframe tbody tr th {\n",
       "        vertical-align: top;\n",
       "    }\n",
       "\n",
       "    .dataframe thead th {\n",
       "        text-align: right;\n",
       "    }\n",
       "</style>\n",
       "<table border=\"1\" class=\"dataframe\">\n",
       "  <thead>\n",
       "    <tr style=\"text-align: right;\">\n",
       "      <th></th>\n",
       "      <th>Economy</th>\n",
       "      <th>Code</th>\n",
       "      <th>Region</th>\n",
       "      <th>Income group</th>\n",
       "      <th>Lending category</th>\n",
       "      <th>Unnamed: 5</th>\n",
       "    </tr>\n",
       "  </thead>\n",
       "  <tbody>\n",
       "    <tr>\n",
       "      <th>0</th>\n",
       "      <td>Aruba</td>\n",
       "      <td>ABW</td>\n",
       "      <td>Latin America &amp; Caribbean</td>\n",
       "      <td>High income</td>\n",
       "      <td>NaN</td>\n",
       "      <td>NaN</td>\n",
       "    </tr>\n",
       "    <tr>\n",
       "      <th>1</th>\n",
       "      <td>Afghanistan</td>\n",
       "      <td>AFG</td>\n",
       "      <td>South Asia</td>\n",
       "      <td>Low income</td>\n",
       "      <td>IDA</td>\n",
       "      <td>NaN</td>\n",
       "    </tr>\n",
       "    <tr>\n",
       "      <th>2</th>\n",
       "      <td>Angola</td>\n",
       "      <td>AGO</td>\n",
       "      <td>Sub-Saharan Africa</td>\n",
       "      <td>Lower middle income</td>\n",
       "      <td>IBRD</td>\n",
       "      <td>NaN</td>\n",
       "    </tr>\n",
       "    <tr>\n",
       "      <th>3</th>\n",
       "      <td>Albania</td>\n",
       "      <td>ALB</td>\n",
       "      <td>Europe &amp; Central Asia</td>\n",
       "      <td>Upper middle income</td>\n",
       "      <td>IBRD</td>\n",
       "      <td>NaN</td>\n",
       "    </tr>\n",
       "    <tr>\n",
       "      <th>4</th>\n",
       "      <td>Andorra</td>\n",
       "      <td>AND</td>\n",
       "      <td>Europe &amp; Central Asia</td>\n",
       "      <td>High income</td>\n",
       "      <td>NaN</td>\n",
       "      <td>NaN</td>\n",
       "    </tr>\n",
       "  </tbody>\n",
       "</table>\n",
       "</div>"
      ],
      "text/plain": [
       "       Economy Code  ... Lending category Unnamed: 5\n",
       "0        Aruba  ABW  ...              NaN        NaN\n",
       "1  Afghanistan  AFG  ...              IDA        NaN\n",
       "2       Angola  AGO  ...             IBRD        NaN\n",
       "3      Albania  ALB  ...             IBRD        NaN\n",
       "4      Andorra  AND  ...              NaN        NaN\n",
       "\n",
       "[5 rows x 6 columns]"
      ]
     },
     "execution_count": 37,
     "metadata": {},
     "output_type": "execute_result"
    }
   ],
   "source": [
    "# try to plot in ArcGIS\n",
    "# What is the R2\n",
    "# Select two income groups and compare your results\n",
    "# https://datahelpdesk.worldbank.org/knowledgebase/articles/906519-world-bank-country-and-lending-groups\n",
    "# You can use either arcgis or python to select your data\n",
    "# How would the calculation of R-squared differ when segmented by income groups? \n",
    "# What insights can we derive from analyzing R-squared within distinct income brackets?\n",
    "\n",
    "\n",
    "#1\n",
    "\n",
    "\n",
    "import pandas as pd\n",
    "path_class = r'C:\\Users\\nismayil\\OneDrive - Texas Tech University\\GeoStatistics\\Lab 12\\CLASS.csv'\n",
    "class1 = pd.read_csv(path_class)\n",
    "class1.head()\n",
    "\n",
    "\n",
    "\n"
   ]
  },
  {
   "cell_type": "code",
   "execution_count": 38,
   "id": "273b406e",
   "metadata": {},
   "outputs": [
    {
     "ename": "ExecuteError",
     "evalue": "Failed to execute. Parameters are not valid.\nERROR 000732: Input Features: Dataset C:\\Users\\nismayil\\OneDrive - Texas Tech University\\GeoStatistics\\Lab 12\\CLASS.csv does not exist or is not supported\nERROR 000732: Output Geodatabase: Dataset lab12.gdb does not exist or is not supported\nFailed to execute (FeatureClassToGeodatabase).\n",
     "output_type": "error",
     "traceback": [
      "\u001b[0;31m---------------------------------------------------------------------------\u001b[0m\n\u001b[0;31mExecuteError\u001b[0m                              Traceback (most recent call last)",
      "In  \u001b[0;34m[38]\u001b[0m:\nLine \u001b[0;34m1\u001b[0m:     arcpy.FeatureClassToGeodatabase_conversion(path_class, geodatabase_name)\n",
      "File \u001b[0;34mC:\\Program Files\\ArcGIS\\Pro\\Resources\\ArcPy\\arcpy\\conversion.py\u001b[0m, in \u001b[0;32mFeatureClassToGeodatabase\u001b[0m:\nLine \u001b[0;34m3239\u001b[0m:  \u001b[34mraise\u001b[39;49;00m e\n",
      "File \u001b[0;34mC:\\Program Files\\ArcGIS\\Pro\\Resources\\ArcPy\\arcpy\\conversion.py\u001b[0m, in \u001b[0;32mFeatureClassToGeodatabase\u001b[0m:\nLine \u001b[0;34m3236\u001b[0m:  retval = convertArcObjectToPythonObject(gp.FeatureClassToGeodatabase_conversion(*gp_fixargs((Input_Features, Output_Geodatabase), \u001b[34mTrue\u001b[39;49;00m)))\n",
      "File \u001b[0;34mC:\\Program Files\\ArcGIS\\Pro\\Resources\\ArcPy\\arcpy\\geoprocessing\\_base.py\u001b[0m, in \u001b[0;32m<lambda>\u001b[0m:\nLine \u001b[0;34m512\u001b[0m:   \u001b[34mreturn\u001b[39;49;00m \u001b[34mlambda\u001b[39;49;00m *args: val(*gp_fixargs(args, \u001b[34mTrue\u001b[39;49;00m))\n",
      "\u001b[0;31mExecuteError\u001b[0m: Failed to execute. Parameters are not valid.\nERROR 000732: Input Features: Dataset C:\\Users\\nismayil\\OneDrive - Texas Tech University\\GeoStatistics\\Lab 12\\CLASS.csv does not exist or is not supported\nERROR 000732: Output Geodatabase: Dataset lab12.gdb does not exist or is not supported\nFailed to execute (FeatureClassToGeodatabase).\n\n\u001b[0;31m---------------------------------------------------------------------------\u001b[0m"
     ]
    }
   ],
   "source": [
    "arcpy.FeatureClassToGeodatabase_conversion(path_class, geodatabase_name)"
   ]
  },
  {
   "cell_type": "code",
   "execution_count": null,
   "id": "f13d051a",
   "metadata": {},
   "outputs": [],
   "source": []
  }
 ],
 "metadata": {
  "kernelspec": {
   "display_name": "Python 3",
   "language": "python",
   "name": "python3"
  },
  "language_info": {
   "codemirror_mode": {
    "name": "ipython",
    "version": 3
   },
   "file_extension": ".py",
   "mimetype": "text/x-python",
   "name": "python",
   "nbconvert_exporter": "python",
   "pygments_lexer": "ipython3",
   "version": "3.9.11"
  }
 },
 "nbformat": 4,
 "nbformat_minor": 5
}
